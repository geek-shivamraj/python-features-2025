{
 "cells": [
  {
   "cell_type": "markdown",
   "metadata": {},
   "source": [
    "# Iterators and Generators Homework \n",
    "\n",
    "### Problem 1\n",
    "\n",
    "Create a generator that generates the squares of numbers up to some number N."
   ]
  },
  {
   "cell_type": "code",
   "metadata": {
    "collapsed": true,
    "ExecuteTime": {
     "end_time": "2025-08-16T14:42:49.515015Z",
     "start_time": "2025-08-16T14:42:49.511549Z"
    }
   },
   "source": [
    "def gensquares(N):\n",
    "    for x in range(N):\n",
    "        yield x**2"
   ],
   "outputs": [],
   "execution_count": 1
  },
  {
   "cell_type": "code",
   "metadata": {
    "ExecuteTime": {
     "end_time": "2025-08-16T14:42:50.456641Z",
     "start_time": "2025-08-16T14:42:50.453446Z"
    }
   },
   "source": [
    "for x in gensquares(10):\n",
    "    print(x)"
   ],
   "outputs": [
    {
     "name": "stdout",
     "output_type": "stream",
     "text": [
      "0\n",
      "1\n",
      "4\n",
      "9\n",
      "16\n",
      "25\n",
      "36\n",
      "49\n",
      "64\n",
      "81\n"
     ]
    }
   ],
   "execution_count": 2
  },
  {
   "cell_type": "markdown",
   "metadata": {},
   "source": [
    "### Problem 2\n",
    "\n",
    "Create a generator that yields \"n\" random numbers between a low and high number (that are inputs). <br>Note: Use the random library. For example:"
   ]
  },
  {
   "cell_type": "code",
   "execution_count": 3,
   "metadata": {},
   "outputs": [
    {
     "data": {
      "text/plain": [
       "9"
      ]
     },
     "execution_count": 3,
     "metadata": {},
     "output_type": "execute_result"
    }
   ],
   "source": [
    "import random\n",
    "\n",
    "random.randint(1,10)"
   ]
  },
  {
   "cell_type": "code",
   "metadata": {
    "collapsed": true,
    "ExecuteTime": {
     "end_time": "2025-08-16T14:47:37.006966Z",
     "start_time": "2025-08-16T14:47:37.004459Z"
    }
   },
   "source": [
    "import random\n",
    "\n",
    "def rand_num(low,high,n):\n",
    "    for i in range(n):\n",
    "        yield random.randint(low, high)"
   ],
   "outputs": [],
   "execution_count": 7
  },
  {
   "cell_type": "code",
   "metadata": {
    "ExecuteTime": {
     "end_time": "2025-08-16T14:47:39.034675Z",
     "start_time": "2025-08-16T14:47:39.031819Z"
    }
   },
   "source": [
    "for num in rand_num(1,10,12):\n",
    "    print(num)"
   ],
   "outputs": [
    {
     "name": "stdout",
     "output_type": "stream",
     "text": [
      "8\n",
      "2\n",
      "3\n",
      "10\n",
      "4\n",
      "6\n",
      "7\n",
      "7\n",
      "1\n",
      "10\n",
      "2\n",
      "3\n"
     ]
    }
   ],
   "execution_count": 8
  },
  {
   "cell_type": "markdown",
   "metadata": {},
   "source": [
    "### Problem 3\n",
    "\n",
    "Use the iter() function to convert the string below into an iterator:\n"
   ]
  },
  {
   "cell_type": "code",
   "metadata": {
    "collapsed": true,
    "ExecuteTime": {
     "end_time": "2025-08-16T14:49:22.709812Z",
     "start_time": "2025-08-16T14:49:22.707050Z"
    }
   },
   "source": [
    "s = 'hello'\n",
    "\n",
    "#code here\n",
    "str_itr = iter(s)\n",
    "\n",
    "print(next(str_itr))\n",
    "print(next(str_itr))"
   ],
   "outputs": [
    {
     "name": "stdout",
     "output_type": "stream",
     "text": [
      "h\n",
      "e\n"
     ]
    }
   ],
   "execution_count": 12
  },
  {
   "cell_type": "markdown",
   "metadata": {},
   "source": [
    "### Problem 4\n",
    "Explain a use case for a generator using a yield statement where you would not want to use a normal function with a return statement.<br><br>\n",
    "\n",
    "**If the output has the potential of taking up a large amount of memory and you only intend to iterate through it, you would want to use a generator.**"
   ]
  },
  {
   "cell_type": "markdown",
   "metadata": {},
   "source": [
    "### Extra Credit!\n",
    "Can you explain what *gencomp* is in the code below? (Note: We never covered this in lecture! You will have to do some Googling/Stack Overflowing!)"
   ]
  },
  {
   "cell_type": "code",
   "metadata": {
    "ExecuteTime": {
     "end_time": "2025-08-16T14:52:46.123695Z",
     "start_time": "2025-08-16T14:52:46.119774Z"
    }
   },
   "source": [
    "my_list = [1,2,3,4,5]\n",
    "\n",
    "gencomp = (item for item in my_list if item > 3)\n",
    "print(gencomp)\n",
    "\n",
    "print(next(gencomp))\n",
    "print(next(gencomp))\n",
    "\n",
    "# for item in gencomp:\n",
    "#     print(item)"
   ],
   "outputs": [
    {
     "name": "stdout",
     "output_type": "stream",
     "text": [
      "<generator object <genexpr> at 0x0000021311D86400>\n",
      "4\n",
      "5\n"
     ]
    }
   ],
   "execution_count": 20
  },
  {
   "cell_type": "markdown",
   "metadata": {},
   "source": [
    "Hint: Google *generator comprehension*!\n",
    "\n",
    "# Great Job!"
   ]
  }
 ],
 "metadata": {
  "kernelspec": {
   "display_name": "Python 3",
   "language": "python",
   "name": "python3"
  },
  "language_info": {
   "codemirror_mode": {
    "name": "ipython",
    "version": 3
   },
   "file_extension": ".py",
   "mimetype": "text/x-python",
   "name": "python",
   "nbconvert_exporter": "python",
   "pygments_lexer": "ipython3",
   "version": "3.6.6"
  }
 },
 "nbformat": 4,
 "nbformat_minor": 1
}
