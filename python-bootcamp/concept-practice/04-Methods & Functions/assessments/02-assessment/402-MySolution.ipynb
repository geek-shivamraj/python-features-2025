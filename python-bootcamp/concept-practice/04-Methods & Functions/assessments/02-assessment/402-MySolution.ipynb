{
 "cells": [
  {
   "cell_type": "markdown",
   "metadata": {},
   "source": [
    "# Functions and Methods Homework \n",
    "\n",
    "Complete the following questions:\n",
    "____\n",
    "**Write a function that computes the volume of a sphere given its radius.**\n",
    "<p>The volume of a sphere is given as $$\\frac{4}{3} πr^3$$</p>"
   ]
  },
  {
   "cell_type": "code",
   "metadata": {
    "collapsed": true,
    "ExecuteTime": {
     "end_time": "2025-08-16T10:02:29.859221Z",
     "start_time": "2025-08-16T10:02:29.855759Z"
    }
   },
   "source": [
    "def vol(rad):\n",
    "    return (4/3) * 3.14 * (rad**3)"
   ],
   "outputs": [],
   "execution_count": 1
  },
  {
   "cell_type": "code",
   "metadata": {
    "ExecuteTime": {
     "end_time": "2025-08-16T12:38:21.821316Z",
     "start_time": "2025-08-16T12:38:21.817835Z"
    }
   },
   "source": [
    "# Check\n",
    "vol(2)"
   ],
   "outputs": [
    {
     "data": {
      "text/plain": [
       "33.49333333333333"
      ]
     },
     "execution_count": 7,
     "metadata": {},
     "output_type": "execute_result"
    }
   ],
   "execution_count": 7
  },
  {
   "cell_type": "markdown",
   "metadata": {},
   "source": [
    "___\n",
    "**Write a function that checks whether a number is in a given range (inclusive of high and low)**"
   ]
  },
  {
   "cell_type": "code",
   "metadata": {
    "collapsed": true,
    "ExecuteTime": {
     "end_time": "2025-08-16T12:38:20.676396Z",
     "start_time": "2025-08-16T12:38:20.673264Z"
    }
   },
   "source": [
    "def ran_check(num,low,high):\n",
    "    if num in range(low, high + 1):\n",
    "        print(f'{num} is in the range b/w {low} and {high}')\n",
    "    else:\n",
    "        print(f'{num} is not in the range b/w {low} and {high}')"
   ],
   "outputs": [],
   "execution_count": 6
  },
  {
   "cell_type": "code",
   "metadata": {
    "ExecuteTime": {
     "end_time": "2025-08-16T12:38:25.180706Z",
     "start_time": "2025-08-16T12:38:25.177798Z"
    }
   },
   "source": [
    "# Check\n",
    "ran_check(5,2,7)"
   ],
   "outputs": [
    {
     "name": "stdout",
     "output_type": "stream",
     "text": [
      "5 is in the range b/w 2 and 7\n"
     ]
    }
   ],
   "execution_count": 8
  },
  {
   "cell_type": "markdown",
   "metadata": {},
   "source": [
    "If you only wanted to return a boolean:"
   ]
  },
  {
   "cell_type": "code",
   "metadata": {
    "collapsed": true,
    "ExecuteTime": {
     "end_time": "2025-08-16T12:38:44.301428Z",
     "start_time": "2025-08-16T12:38:44.298056Z"
    }
   },
   "source": [
    "def ran_bool(num,low,high):\n",
    "    return num in range(low, high + 1)"
   ],
   "outputs": [],
   "execution_count": 9
  },
  {
   "cell_type": "code",
   "metadata": {
    "ExecuteTime": {
     "end_time": "2025-08-16T12:46:03.403644Z",
     "start_time": "2025-08-16T12:46:03.400336Z"
    }
   },
   "source": [
    "ran_bool(3,1,10)"
   ],
   "outputs": [
    {
     "data": {
      "text/plain": [
       "True"
      ]
     },
     "execution_count": 20,
     "metadata": {},
     "output_type": "execute_result"
    }
   ],
   "execution_count": 20
  },
  {
   "cell_type": "markdown",
   "metadata": {},
   "source": [
    "____\n",
    "**Write a Python function that accepts a string and calculates the number of upper case letters and lower case letters.**\n",
    "\n",
    "    Sample String : 'Hello Mr. Rogers, how are you this fine Tuesday?'\n",
    "    Expected Output : \n",
    "    No. of Upper case characters : 4\n",
    "    No. of Lower case Characters : 33\n",
    "\n",
    "HINT: Two string methods that might prove useful: **.isupper()** and **.islower()**\n",
    "\n",
    "If you feel ambitious, explore the Collections module to solve this problem!"
   ]
  },
  {
   "cell_type": "code",
   "metadata": {
    "collapsed": true,
    "ExecuteTime": {
     "end_time": "2025-08-16T12:43:33.673524Z",
     "start_time": "2025-08-16T12:43:33.670587Z"
    }
   },
   "source": [
    "def up_low(s):\n",
    "    count = {\"upper\": 0, \"lower\": 0}\n",
    "    for char in s:\n",
    "        if char.isupper():\n",
    "            count[\"upper\"] += 1\n",
    "        elif char.islower():\n",
    "            count[\"lower\"] += 1\n",
    "        else:\n",
    "            pass\n",
    "\n",
    "    print(f'Original String: {s}')\n",
    "    print(f'No. of Upper case characters : {count[\"upper\"]}')\n",
    "    print(f'No. of Lower case characters : {count[\"lower\"]}')"
   ],
   "outputs": [],
   "execution_count": 15
  },
  {
   "cell_type": "code",
   "metadata": {
    "ExecuteTime": {
     "end_time": "2025-08-16T12:43:36.461986Z",
     "start_time": "2025-08-16T12:43:36.459338Z"
    }
   },
   "source": [
    "s = 'Hello Mr. Rogers, how are you this fine Tuesday?'\n",
    "up_low(s)"
   ],
   "outputs": [
    {
     "name": "stdout",
     "output_type": "stream",
     "text": [
      "Original String: Hello Mr. Rogers, how are you this fine Tuesday?\n",
      "No. of Upper case characters : 4\n",
      "No. of Lower case characters : 33\n"
     ]
    }
   ],
   "execution_count": 16
  },
  {
   "cell_type": "markdown",
   "metadata": {},
   "source": [
    "____\n",
    "**Write a Python function that takes a list and returns a new list with unique elements of the first list.**\n",
    "\n",
    "    Sample List : [1,1,1,1,2,2,3,3,3,3,4,5]\n",
    "    Unique List : [1, 2, 3, 4, 5]"
   ]
  },
  {
   "cell_type": "code",
   "metadata": {
    "collapsed": true,
    "ExecuteTime": {
     "end_time": "2025-08-16T12:48:22.350166Z",
     "start_time": "2025-08-16T12:48:22.346915Z"
    }
   },
   "source": [
    "def unique_list(lst):\n",
    "    # return list(set(lst))\n",
    "    output = []\n",
    "    for item in lst:\n",
    "        if item not in output:\n",
    "            output.append(item)\n",
    "    return output"
   ],
   "outputs": [],
   "execution_count": 22
  },
  {
   "cell_type": "code",
   "metadata": {
    "ExecuteTime": {
     "end_time": "2025-08-16T12:48:23.982331Z",
     "start_time": "2025-08-16T12:48:23.977609Z"
    }
   },
   "source": [
    "unique_list([1,1,1,1,2,2,3,3,3,3,4,5])"
   ],
   "outputs": [
    {
     "data": {
      "text/plain": [
       "[1, 2, 3, 4, 5]"
      ]
     },
     "execution_count": 23,
     "metadata": {},
     "output_type": "execute_result"
    }
   ],
   "execution_count": 23
  },
  {
   "cell_type": "markdown",
   "metadata": {},
   "source": [
    "____\n",
    "**Write a Python function to multiply all the numbers in a list.**\n",
    "\n",
    "    Sample List : [1, 2, 3, -4]\n",
    "    Expected Output : -24"
   ]
  },
  {
   "cell_type": "code",
   "metadata": {
    "collapsed": true,
    "ExecuteTime": {
     "end_time": "2025-08-16T12:50:19.449390Z",
     "start_time": "2025-08-16T12:50:19.446479Z"
    }
   },
   "source": [
    "def multiply(numbers):  \n",
    "    output = 1\n",
    "    for num in numbers:\n",
    "        output *= num\n",
    "    return output"
   ],
   "outputs": [],
   "execution_count": 26
  },
  {
   "cell_type": "code",
   "metadata": {
    "ExecuteTime": {
     "end_time": "2025-08-16T12:50:21.386323Z",
     "start_time": "2025-08-16T12:50:21.382103Z"
    }
   },
   "source": [
    "multiply([1,2,3,-4])"
   ],
   "outputs": [
    {
     "data": {
      "text/plain": [
       "-24"
      ]
     },
     "execution_count": 27,
     "metadata": {},
     "output_type": "execute_result"
    }
   ],
   "execution_count": 27
  },
  {
   "cell_type": "markdown",
   "metadata": {},
   "source": [
    "____\n",
    "**Write a Python function that checks whether a word or phrase is palindrome or not.**\n",
    "\n",
    "Note: A palindrome is word, phrase, or sequence that reads the same backward as forward, e.g., madam,kayak,racecar, or a phrase \"nurses run\". Hint: You may want to check out the .replace() method in a string to help out with dealing with spaces. Also google search how to reverse a string in Python, there are some clever ways to do it with slicing notation."
   ]
  },
  {
   "cell_type": "code",
   "metadata": {
    "collapsed": true,
    "ExecuteTime": {
     "end_time": "2025-08-16T12:52:23.250292Z",
     "start_time": "2025-08-16T12:52:23.247471Z"
    }
   },
   "source": [
    "def palindrome(s):\n",
    "    s.replace(' ', '')\n",
    "    return s == s[::-1]"
   ],
   "outputs": [],
   "execution_count": 28
  },
  {
   "cell_type": "code",
   "metadata": {
    "ExecuteTime": {
     "end_time": "2025-08-16T12:52:24.364270Z",
     "start_time": "2025-08-16T12:52:24.359975Z"
    }
   },
   "source": [
    "palindrome('helleh')"
   ],
   "outputs": [
    {
     "data": {
      "text/plain": [
       "True"
      ]
     },
     "execution_count": 29,
     "metadata": {},
     "output_type": "execute_result"
    }
   ],
   "execution_count": 29
  },
  {
   "cell_type": "markdown",
   "metadata": {},
   "source": [
    "____\n",
    "#### Hard:\n",
    "\n",
    "**Write a Python function to check whether a string is pangram or not. (Assume the string passed in does not have any punctuation)**\n",
    "\n",
    "    Note : Pangrams are words or sentences containing every letter of the alphabet at least once.\n",
    "    For example : \"The quick brown fox jumps over the lazy dog\"\n",
    "\n",
    "Hint: You may want to use .replace() method to get rid of spaces.\n",
    "\n",
    "Hint: Look at the [string module](https://stackoverflow.com/questions/16060899/alphabet-range-in-python)\n",
    "\n",
    "Hint: In case you want to use [set comparisons](https://medium.com/better-programming/a-visual-guide-to-set-comparisons-in-python-6ab7edb9ec41)"
   ]
  },
  {
   "cell_type": "code",
   "metadata": {
    "collapsed": true,
    "ExecuteTime": {
     "end_time": "2025-08-16T12:57:31.047448Z",
     "start_time": "2025-08-16T12:57:31.044157Z"
    }
   },
   "source": [
    "import string\n",
    "\n",
    "def ispangram(str1, alphabet=string.ascii_lowercase):\n",
    "    str1 = str1.replace(' ', '')\n",
    "    str1 = str1.lower()\n",
    "\n",
    "    return set(str1) == set(alphabet)"
   ],
   "outputs": [],
   "execution_count": 30
  },
  {
   "cell_type": "code",
   "metadata": {
    "ExecuteTime": {
     "end_time": "2025-08-16T12:57:33.048733Z",
     "start_time": "2025-08-16T12:57:33.044940Z"
    }
   },
   "source": [
    "ispangram(\"The quick brown fox jumps over the lazy dog\")"
   ],
   "outputs": [
    {
     "data": {
      "text/plain": [
       "False"
      ]
     },
     "execution_count": 31,
     "metadata": {},
     "output_type": "execute_result"
    }
   ],
   "execution_count": 31
  },
  {
   "cell_type": "code",
   "execution_count": 17,
   "metadata": {},
   "outputs": [
    {
     "data": {
      "text/plain": [
       "'abcdefghijklmnopqrstuvwxyz'"
      ]
     },
     "execution_count": 17,
     "metadata": {},
     "output_type": "execute_result"
    }
   ],
   "source": [
    "string.ascii_lowercase"
   ]
  },
  {
   "cell_type": "markdown",
   "metadata": {
    "collapsed": true
   },
   "source": [
    "#### Great Job!"
   ]
  }
 ],
 "metadata": {
  "kernelspec": {
   "display_name": "Python 3",
   "language": "python",
   "name": "python3"
  },
  "language_info": {
   "codemirror_mode": {
    "name": "ipython",
    "version": 3
   },
   "file_extension": ".py",
   "mimetype": "text/x-python",
   "name": "python",
   "nbconvert_exporter": "python",
   "pygments_lexer": "ipython3",
   "version": "3.6.6"
  }
 },
 "nbformat": 4,
 "nbformat_minor": 1
}
