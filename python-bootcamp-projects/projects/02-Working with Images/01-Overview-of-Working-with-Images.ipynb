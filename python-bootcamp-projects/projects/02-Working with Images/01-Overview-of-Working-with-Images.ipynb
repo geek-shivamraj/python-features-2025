{
 "cells": [
  {
   "cell_type": "markdown",
   "metadata": {},
   "source": [
    "# Overview of Working with Images\n",
    "\n",
    "By leveraging the power of some common libraries that you can install, such as PILLOW, Python gains the ability to work with and manipulate images for simple tasks. You can install Pillow by running:\n",
    "\n",
    "    pip install pillow\n",
    "    \n",
    "In case of any issues, you can refer to their [official documentation](http://pillow.readthedocs.io/en/3.4.x/installation.html) on installation. But for most computers, the simple pip install method should work.\n",
    "\n",
    "---\n",
    "____\n",
    "**Note: When working with images in the jupyter notebook, you may get the following warning:**\n",
    "\n",
    "    IOPub data rate exceeded.\n",
    "    The notebook server will temporarily stop sending output\n",
    "    to the client in order to avoid crashing it.\n",
    "    To change this limit, set the config variable\n",
    "    `--NotebookApp.iopub_data_rate_limit`.\n",
    "    \n",
    "**If you get this warning, try stopping the notebook at the command line, then restarting it with:**\n",
    "\n",
    "    jupyter notebook --NotebookApp.iopub_data_rate_limit=1.0e10\n",
    "    \n",
    "** At the command line. Basically this adds a \"flag\" that the limit should be raised during this session of jupyter notebook that you are running.**\n",
    "\n",
    "\n",
    "----\n"
   ]
  },
  {
   "cell_type": "markdown",
   "metadata": {
    "collapsed": true,
    "jupyter": {
     "outputs_hidden": true
    }
   },
   "source": [
    "# Working with Pillow Library\n",
    "\n",
    "## Opening Images\n",
    "\n",
    "You can use Pillow to open image files. For a jupyter notebook, to show the file simply type the variable name holding the image. For other IDEs , the image variable will have a [.show() method.](https://stackoverflow.com/questions/28139637/how-can-i-display-an-image-using-pillow)"
   ]
  },
  {
   "cell_type": "code",
   "metadata": {},
   "source": [
    "from PIL import Image"
   ],
   "outputs": [],
   "execution_count": null
  },
  {
   "cell_type": "code",
   "metadata": {},
   "source": [
    "mac = Image.open('example.jpg')"
   ],
   "outputs": [],
   "execution_count": null
  },
  {
   "cell_type": "code",
   "metadata": {},
   "source": [
    "# Note this is a specialized file type from PIL (pillow)\n",
    "type(mac)"
   ],
   "outputs": [],
   "execution_count": null
  },
  {
   "cell_type": "code",
   "metadata": {},
   "source": [
    "# Only for jupyter notebook , use mac.show() for other IDEs \n",
    "mac"
   ],
   "outputs": [],
   "execution_count": null
  },
  {
   "cell_type": "markdown",
   "metadata": {},
   "source": [
    "### Image Information"
   ]
  },
  {
   "cell_type": "code",
   "metadata": {},
   "source": [
    "# (width, height)\n",
    "mac.size"
   ],
   "outputs": [],
   "execution_count": null
  },
  {
   "cell_type": "code",
   "metadata": {},
   "source": [
    "mac.filename"
   ],
   "outputs": [],
   "execution_count": null
  },
  {
   "cell_type": "code",
   "metadata": {},
   "source": [
    "mac.format_description"
   ],
   "outputs": [],
   "execution_count": null
  },
  {
   "cell_type": "markdown",
   "metadata": {},
   "source": [
    "## Cropping Images\n",
    "\n",
    "To crop images (that is grab a sub section) you can use the crop() method on the image object. The crop() method returns a rectangular region from this image. The box is a 4-tuple defining the left, upper, right, and lower pixel coordinate.\n",
    "\n",
    "Note! If you take a look at the documentation string, it says the tuple you pass in is defined as (x,y,w,h). These variables can be a bit decieving. Its not really a height or width that is being passed, but instead the end coordinates of your width and height.\n",
    "\n",
    "\n",
    "All the coordinates of box (x, y, w, h) are measured from the top left corner of the image. Again, all 4 of these values are coordinates!"
   ]
  },
  {
   "cell_type": "code",
   "metadata": {},
   "source": [
    "mac.crop((0,0,100,100))"
   ],
   "outputs": [],
   "execution_count": null
  },
  {
   "cell_type": "markdown",
   "metadata": {},
   "source": [
    "For the mac image this isn't a very useful demonstration. Let's use another image instead:"
   ]
  },
  {
   "cell_type": "code",
   "metadata": {},
   "source": [
    "pencils = Image.open(\"pencils.jpg\")"
   ],
   "outputs": [],
   "execution_count": null
  },
  {
   "cell_type": "code",
   "metadata": {},
   "source": [
    "pencils"
   ],
   "outputs": [],
   "execution_count": null
  },
  {
   "cell_type": "markdown",
   "metadata": {},
   "source": [
    "Now let's attempt to grab some of the top pencils from the corner"
   ]
  },
  {
   "cell_type": "code",
   "metadata": {},
   "source": [
    "pencils.size"
   ],
   "outputs": [],
   "execution_count": null
  },
  {
   "cell_type": "code",
   "metadata": {},
   "source": [
    "# Start at top corner (0,0)\n",
    "x = 0\n",
    "y = 0\n",
    "\n",
    "# Grab about 10% in y direction , and about 30% in x direction\n",
    "w = 1950/3\n",
    "h = 1300/10\n",
    "\n",
    "pencils.crop((x,y,w,h))"
   ],
   "outputs": [],
   "execution_count": null
  },
  {
   "cell_type": "code",
   "metadata": {},
   "source": [
    "pencils"
   ],
   "outputs": [],
   "execution_count": null
  },
  {
   "cell_type": "markdown",
   "metadata": {},
   "source": [
    "Now let's try the pencils from the bottom"
   ]
  },
  {
   "cell_type": "code",
   "metadata": {},
   "source": [
    "pencils.size"
   ],
   "outputs": [],
   "execution_count": null
  },
  {
   "cell_type": "code",
   "metadata": {},
   "source": [
    "x = 0 \n",
    "y = 1100\n",
    "w = 1950/3\n",
    "h = 1300"
   ],
   "outputs": [],
   "execution_count": null
  },
  {
   "cell_type": "code",
   "metadata": {},
   "source": [
    "pencils.crop((x,y,w,h))"
   ],
   "outputs": [],
   "execution_count": null
  },
  {
   "cell_type": "markdown",
   "metadata": {},
   "source": [
    "Now let's go back to the mac photo and see if we can only grab the computer itself:"
   ]
  },
  {
   "cell_type": "code",
   "metadata": {},
   "source": [
    "mac"
   ],
   "outputs": [],
   "execution_count": null
  },
  {
   "cell_type": "code",
   "metadata": {},
   "source": [
    "mac.size"
   ],
   "outputs": [],
   "execution_count": null
  },
  {
   "cell_type": "code",
   "metadata": {},
   "source": [
    "halfway = 1993/2"
   ],
   "outputs": [],
   "execution_count": null
  },
  {
   "cell_type": "code",
   "metadata": {},
   "source": [
    "x = halfway - 200\n",
    "w = halfway + 200"
   ],
   "outputs": [],
   "execution_count": null
  },
  {
   "cell_type": "code",
   "metadata": {},
   "source": [
    "y = 800\n",
    "h = 1257"
   ],
   "outputs": [],
   "execution_count": null
  },
  {
   "cell_type": "code",
   "metadata": {},
   "source": [
    "mac.crop((x,y,w,h))"
   ],
   "outputs": [],
   "execution_count": null
  },
  {
   "cell_type": "markdown",
   "metadata": {},
   "source": [
    "### Copying and Pasting Images\n",
    "\n",
    "We can create copies with the copy() method and paste images on top of others with the paste() method."
   ]
  },
  {
   "cell_type": "code",
   "metadata": {},
   "source": [
    "computer = mac.crop((x,y,w,h))"
   ],
   "outputs": [],
   "execution_count": null
  },
  {
   "cell_type": "code",
   "metadata": {},
   "source": [
    "mac.paste(im=computer,box=(0,0))"
   ],
   "outputs": [],
   "execution_count": null
  },
  {
   "cell_type": "code",
   "metadata": {},
   "source": [
    "mac"
   ],
   "outputs": [],
   "execution_count": null
  },
  {
   "cell_type": "code",
   "metadata": {},
   "source": [
    "mac.paste(im=computer,box=(796,0))"
   ],
   "outputs": [],
   "execution_count": null
  },
  {
   "cell_type": "code",
   "metadata": {},
   "source": [
    "mac"
   ],
   "outputs": [],
   "execution_count": null
  },
  {
   "cell_type": "markdown",
   "metadata": {},
   "source": [
    "### Resizing\n",
    "\n",
    "You can use the resize() method to resize an image"
   ]
  },
  {
   "cell_type": "code",
   "metadata": {},
   "source": [
    "mac.size"
   ],
   "outputs": [],
   "execution_count": null
  },
  {
   "cell_type": "code",
   "metadata": {},
   "source": [
    "h,w = mac.size"
   ],
   "outputs": [],
   "execution_count": null
  },
  {
   "cell_type": "code",
   "metadata": {},
   "source": [
    "new_h = int(h/3)\n",
    "new_w = int(w/3)"
   ],
   "outputs": [],
   "execution_count": null
  },
  {
   "cell_type": "code",
   "metadata": {},
   "source": [
    "# Note this is not permanent change\n",
    "# for permanent change, do a reassignment\n",
    "# e.g. mac = mac.resize((100,100))\n",
    "mac.resize((new_h,new_w))"
   ],
   "outputs": [],
   "execution_count": null
  },
  {
   "cell_type": "markdown",
   "metadata": {},
   "source": [
    "Can also stretch and squeeze"
   ]
  },
  {
   "cell_type": "code",
   "metadata": {},
   "source": [
    "mac.resize((3000,500))"
   ],
   "outputs": [],
   "execution_count": null
  },
  {
   "cell_type": "markdown",
   "metadata": {},
   "source": [
    "### Rotating Images\n",
    "\n",
    "You can rotate images by specifying the amount of degrees to rotate on the rotate() method. The original dimensions will be kept and \"filled\" in with black. You can optionally pass in the expand parameter to fill the new rotated image to the old dimensions."
   ]
  },
  {
   "cell_type": "code",
   "metadata": {},
   "source": [
    "pencils.rotate(90)"
   ],
   "outputs": [],
   "execution_count": null
  },
  {
   "cell_type": "code",
   "metadata": {},
   "source": [
    "pencils.rotate(90,expand=True)"
   ],
   "outputs": [],
   "execution_count": null
  },
  {
   "cell_type": "markdown",
   "metadata": {},
   "source": [
    "Notice what happens when we rotate by 120."
   ]
  },
  {
   "cell_type": "code",
   "metadata": {},
   "source": [
    "# The image is cut off\n",
    "pencils.rotate(120)"
   ],
   "outputs": [],
   "execution_count": null
  },
  {
   "cell_type": "code",
   "metadata": {},
   "source": [
    "#pencils.rotate(120,expand=True)"
   ],
   "outputs": [],
   "execution_count": null
  },
  {
   "cell_type": "markdown",
   "metadata": {},
   "source": [
    "## Transparency  \n",
    "\n",
    "We can add an alpha value (RGBA stands for RED,Green,Blue, Alpha) where values can go from 0 to 255. If Alpha is 0 the image is completely transparent, if it is 255 then its completely opaque.\n",
    "\n",
    "You can create your own color here to check for possible values: https://developer.mozilla.org/en-US/docs/Web/CSS/CSS_Colors/Color_picker_tool\n",
    "\n",
    "We can adjust image alpha values with the putalpha() method:"
   ]
  },
  {
   "cell_type": "code",
   "metadata": {},
   "source": [
    "red = Image.open('red_color.jpg')"
   ],
   "outputs": [],
   "execution_count": null
  },
  {
   "cell_type": "code",
   "metadata": {},
   "source": [
    "red"
   ],
   "outputs": [],
   "execution_count": null
  },
  {
   "cell_type": "code",
   "metadata": {},
   "source": [
    "blue = Image.open('blue_color.png')"
   ],
   "outputs": [],
   "execution_count": null
  },
  {
   "cell_type": "code",
   "metadata": {},
   "source": [
    "blue"
   ],
   "outputs": [],
   "execution_count": null
  },
  {
   "cell_type": "code",
   "metadata": {},
   "source": [
    "red.putalpha(128)"
   ],
   "outputs": [],
   "execution_count": null
  },
  {
   "cell_type": "code",
   "metadata": {},
   "source": [
    "red"
   ],
   "outputs": [],
   "execution_count": null
  },
  {
   "cell_type": "code",
   "metadata": {},
   "source": [
    "blue.putalpha(128)"
   ],
   "outputs": [],
   "execution_count": null
  },
  {
   "cell_type": "code",
   "metadata": {},
   "source": [
    "blue"
   ],
   "outputs": [],
   "execution_count": null
  },
  {
   "cell_type": "code",
   "metadata": {},
   "source": [
    "blue.paste(red,box=(0,0),mask=red)"
   ],
   "outputs": [],
   "execution_count": null
  },
  {
   "cell_type": "code",
   "metadata": {
    "scrolled": true
   },
   "source": [
    "# Get back an image that is more purple.\n",
    "blue"
   ],
   "outputs": [],
   "execution_count": null
  },
  {
   "cell_type": "markdown",
   "metadata": {},
   "source": [
    "Transparency and masking can be much more complex than what we've shown here, if you find yourself needing something more, check out the documentation: https://pillow.readthedocs.io/en/stable/"
   ]
  },
  {
   "cell_type": "markdown",
   "metadata": {},
   "source": [
    "## Saving Images"
   ]
  },
  {
   "cell_type": "markdown",
   "metadata": {},
   "source": [
    "Let's save this updated \"blue\" image as 'purple.png' in this folder."
   ]
  },
  {
   "cell_type": "code",
   "metadata": {},
   "source": [
    "blue.save(\"purple.png\")"
   ],
   "outputs": [],
   "execution_count": null
  },
  {
   "cell_type": "markdown",
   "metadata": {},
   "source": [
    "Let's check to make sure that worked:"
   ]
  },
  {
   "cell_type": "code",
   "metadata": {},
   "source": [
    "purple = Image.open(\"purple.png\")"
   ],
   "outputs": [],
   "execution_count": null
  },
  {
   "cell_type": "code",
   "metadata": {},
   "source": [
    "purple"
   ],
   "outputs": [],
   "execution_count": null
  },
  {
   "cell_type": "markdown",
   "metadata": {},
   "source": [
    "Great job!"
   ]
  }
 ],
 "metadata": {
  "kernelspec": {
   "display_name": "Python [conda env:base] *",
   "language": "python",
   "name": "conda-base-py"
  },
  "language_info": {
   "codemirror_mode": {
    "name": "ipython",
    "version": 3
   },
   "file_extension": ".py",
   "mimetype": "text/x-python",
   "name": "python",
   "nbconvert_exporter": "python",
   "pygments_lexer": "ipython3",
   "version": "3.12.2"
  }
 },
 "nbformat": 4,
 "nbformat_minor": 4
}
